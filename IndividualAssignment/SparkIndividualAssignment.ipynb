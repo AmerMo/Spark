{
 "cells": [
  {
   "cell_type": "markdown",
   "metadata": {},
   "source": [
    "# Global Emissions by Country\n",
    "\n",
    "## Introduction\n",
    "\n",
    "In this assignment I'm going to analyse the global emission dataset for the period between 2000 and 2012 and I'll be trying to answer some questions about the ***Top countries in emission***, ***CO2 emission over the years***, and ***if there is a specific decrease in emission or not?***\n",
    "to begin with that I need to highlight here what emissions I'm considering and thier categories to just clarify more what are these appreviations for, ***as follows:***\n",
    "\n",
    "Emissions are calculated for the following substances: 1) Direct greenhouse gases: Carbon Dioxide (CO2), Methane (CH4), Nitrous Oxide (N2O), Hydrofluorocarbons (HFC-23, 32, 125, 134a, 143a, 152a, 227ea, 236fa, 245fa, 365mfc, 43-10-mee), Perfluorocarbons (PFCs: CF4, C2F6, C3F8, c-C4F8, C4F10, C5F12, C6F14, C7F16), Sulfur Hexafluoride (SF6), Nitrogen Trifluoride (NF3) and Sulfuryl Fluoride (SO2F2); 2) Ozone precursor gases: Carbon Monoxide (CO), Nitrogen Oxides (NOx), Non-Methane Volatile Organic Compounds (NMVOC) and Methane (CH4). 3) Acidifying gases: Ammonia (NH3), Nitrogen oxides (NOx) and Sulfur Dioxide (SO2). 4) Primary particulates: Fine Particulate Matter (PM10) - Carbonaceous speciation (BC , OC) is under progress. 5) Stratospheric Ozone Depleting Substances: Chlorofluorocarbons (CFC-11, 12, 113, 114, 115), Halons (1211, 1301, 2402), Hydrochlorofluorocarbons (HCFC-22, 124, 141b, 142b), Carbon Tetrachloride (CCl4), Methyl Bromide (CH3Br) and Methyl Chloroform (CH3CCl2). Emissions (EM) for a country C are calculated for each compound x on an annual basis (y) and sector wise (for i sectors, multiplying on the one hand the country-specific activity data (AD), quantifying the human activity for each of the i sectors, with the mix of j technologies (TECH) for each sector i, and with their abatement percentage by one of the k end-of-pipe (EOP) measures for each technology j, and on the other hand the country-specific emission factor (EF) for each sector i and technology j with relative reduction (RED) of the uncontrolled emission by installed abatement measure k. Emissions in are calculated by individual countries using country-specific information. The countries are organized in different world regions for illustration purposes. Emissions of some small countries are presented together with other countries depending on country definition and availability of activity statistics"
   ]
  },
  {
   "cell_type": "markdown",
   "metadata": {},
   "source": [
    "# Section1 (Setup)\n",
    "    1.1. Libraries Import.\n",
    "    1.2. myFunctions.\n",
    "    1.3. Spark session establishment"
   ]
  },
  {
   "cell_type": "markdown",
   "metadata": {},
   "source": [
    "### 1.1. Libraries Import"
   ]
  },
  {
   "cell_type": "code",
   "execution_count": 84,
   "metadata": {},
   "outputs": [],
   "source": [
    "import findspark\n",
    "findspark.init()\n",
    "import pyspark # only run after findspark.init()\n",
    "from pyspark.context import SparkContext\n",
    "from pyspark.sql.session import SparkSession\n",
    "from IPython.display import display, Markdown\n",
    "from pyspark.sql.functions import count, col, first, lit,year, month,udf, dayofmonth,when,countDistinct,round,sum,expr,substring\n",
    "from IPython.display import display, Markdown\n",
    "from pyspark.sql.functions import max\n",
    "from pyspark.sql.types import IntegerType\n",
    "from functools import reduce"
   ]
  },
  {
   "cell_type": "markdown",
   "metadata": {},
   "source": [
    "### 1.2. myFunctions"
   ]
  },
  {
   "cell_type": "code",
   "execution_count": 85,
   "metadata": {},
   "outputs": [],
   "source": [
    "def superSum(*cols):\n",
    "    return reduce(lambda a, b: a + b, cols)\n",
    "\n",
    "add = udf(superSum)\n"
   ]
  },
  {
   "cell_type": "markdown",
   "metadata": {},
   "source": [
    "### 1.3. Establishing spark session "
   ]
  },
  {
   "cell_type": "code",
   "execution_count": 86,
   "metadata": {},
   "outputs": [],
   "source": [
    "sc = SparkContext.getOrCreate()\n",
    "spark = SparkSession(sc)"
   ]
  },
  {
   "cell_type": "markdown",
   "metadata": {},
   "source": [
    "# Section2 (Reading CSV & data discovery)\n",
    "    2.1. Reading Data/printing Schema\n",
    "    2.2. Data discovery."
   ]
  },
  {
   "cell_type": "markdown",
   "metadata": {},
   "source": [
    "### 2.1. Reading Data/printing Schema"
   ]
  },
  {
   "cell_type": "code",
   "execution_count": 87,
   "metadata": {},
   "outputs": [
    {
     "name": "stdout",
     "output_type": "stream",
     "text": [
      "root\n",
      " |-- COUNTRY_ID: string (nullable = true)\n",
      " |-- COUNTRY_NAME: string (nullable = true)\n",
      " |-- COUNTRY_NOTES: string (nullable = true)\n",
      " |-- COUNTRY_REGIONID: string (nullable = true)\n",
      " |-- DATE: timestamp (nullable = true)\n",
      " |-- FREQUENCY: string (nullable = true)\n",
      " |-- INDICATOR_ID: string (nullable = true)\n",
      " |-- INDICATOR_NAME: string (nullable = true)\n",
      " |-- IPCC_ID: string (nullable = true)\n",
      " |-- IPCC_NAME: string (nullable = true)\n",
      " |-- VALUE: double (nullable = true)\n",
      "\n"
     ]
    },
    {
     "data": {
      "text/markdown": [
       "This global emission DataFrame has **1826762 rows**."
      ],
      "text/plain": [
       "<IPython.core.display.Markdown object>"
      ]
     },
     "metadata": {},
     "output_type": "display_data"
    }
   ],
   "source": [
    "gemissionDF = spark.read \\\n",
    "             .option(\"inferSchema\", \"true\") \\\n",
    "             .option(\"header\", \"true\") \\\n",
    "             .option(\"sep\", \";\") \\\n",
    "             .csv(\"global-emissions-by-country-2013.csv\")\n",
    "gemissionDF.printSchema()\n",
    "display(Markdown(\"This global emission DataFrame has **%d rows**.\" % gemissionDF.count()))"
   ]
  },
  {
   "cell_type": "markdown",
   "metadata": {},
   "source": [
    "#### Now, let's check randomly two records"
   ]
  },
  {
   "cell_type": "code",
   "execution_count": 88,
   "metadata": {},
   "outputs": [
    {
     "data": {
      "text/plain": [
       "[Row(COUNTRY_ID='EH', COUNTRY_NAME='Western Sahara', COUNTRY_NOTES='Northern_Africa', COUNTRY_REGIONID='EH', DATE=datetime.datetime(1971, 1, 1, 0, 0), FREQUENCY='Annual', INDICATOR_ID='KN.A5', INDICATOR_NAME='N2O', IPCC_ID='6B', IPCC_NAME='Wastewater handling', VALUE=0.0639142),\n",
       " Row(COUNTRY_ID='EH', COUNTRY_NAME='Western Sahara', COUNTRY_NOTES='Northern_Africa', COUNTRY_REGIONID='EH', DATE=datetime.datetime(2004, 1, 1, 0, 0), FREQUENCY='Annual', INDICATOR_ID='KN.A5', INDICATOR_NAME='N2O', IPCC_ID='7B', IPCC_NAME='Indirect N2O from non-agricultural NOx', VALUE=0.00469136)]"
      ]
     },
     "execution_count": 88,
     "metadata": {},
     "output_type": "execute_result"
    }
   ],
   "source": [
    "gemissionDF.cache() \n",
    "gemissionDF.sample(False, 0.1).take(2)"
   ]
  },
  {
   "cell_type": "markdown",
   "metadata": {},
   "source": [
    "#### Since we have 1.9 M records, i'm going to reduce it to around 500 K by choosing only all data from the year 2000"
   ]
  },
  {
   "cell_type": "code",
   "execution_count": 89,
   "metadata": {},
   "outputs": [
    {
     "data": {
      "text/plain": [
       "DataFrame[COUNTRY_ID: string, COUNTRY_NAME: string, COUNTRY_NOTES: string, COUNTRY_REGIONID: string, DATE: timestamp, FREQUENCY: string, INDICATOR_ID: string, INDICATOR_NAME: string, IPCC_ID: string, IPCC_NAME: string, VALUE: double]"
      ]
     },
     "execution_count": 89,
     "metadata": {},
     "output_type": "execute_result"
    }
   ],
   "source": [
    "subDF = gemissionDF.where(year(\"date\") >= 2000)\n",
    "#subDF = gemissionDF\n",
    "subDF.cache() "
   ]
  },
  {
   "cell_type": "code",
   "execution_count": 90,
   "metadata": {},
   "outputs": [
    {
     "data": {
      "text/markdown": [
       "This global emission DataFrame has **518789 rows**. from 2000 till 2012"
      ],
      "text/plain": [
       "<IPython.core.display.Markdown object>"
      ]
     },
     "metadata": {},
     "output_type": "display_data"
    }
   ],
   "source": [
    "display(Markdown(\"This global emission DataFrame has **%d rows**. from 2000 till 2012\" % subDF.count()))"
   ]
  },
  {
   "cell_type": "markdown",
   "metadata": {},
   "source": [
    "#### Now, let's free some memory ;) "
   ]
  },
  {
   "cell_type": "code",
   "execution_count": 91,
   "metadata": {},
   "outputs": [
    {
     "data": {
      "text/plain": [
       "DataFrame[COUNTRY_ID: string, COUNTRY_NAME: string, COUNTRY_NOTES: string, COUNTRY_REGIONID: string, DATE: timestamp, FREQUENCY: string, INDICATOR_ID: string, INDICATOR_NAME: string, IPCC_ID: string, IPCC_NAME: string, VALUE: double]"
      ]
     },
     "execution_count": 91,
     "metadata": {},
     "output_type": "execute_result"
    }
   ],
   "source": [
    "gemissionDF.unpersist()"
   ]
  },
  {
   "cell_type": "markdown",
   "metadata": {},
   "source": [
    "### 2.2 Data discovery."
   ]
  },
  {
   "cell_type": "code",
   "execution_count": 92,
   "metadata": {},
   "outputs": [
    {
     "name": "stdout",
     "output_type": "stream",
     "text": [
      "emmission value summary:\n",
      "+-------+------------------+\n",
      "|summary|             VALUE|\n",
      "+-------+------------------+\n",
      "|  count|            518789|\n",
      "|   mean|3251.4186273294995|\n",
      "| stddev| 73873.94031694348|\n",
      "|    min|         -496000.0|\n",
      "|    25%|         0.0162442|\n",
      "|    50%|           0.47762|\n",
      "|    75%|      11.815299832|\n",
      "|    max|  9918456.19197339|\n",
      "+-------+------------------+\n",
      "\n",
      "Checking also if there is nulls on column VALUE:\n",
      "+-----+\n",
      "|VALUE|\n",
      "+-----+\n",
      "|    0|\n",
      "+-----+\n",
      "\n",
      "COUNTRY_ID,COUNTRY_NAME,COUNTRY_NOTES,COUNTRY_REGIONID,DATE summary:\n",
      "+-------+----------+------------+--------------+----------------+\n",
      "|summary|COUNTRY_ID|COUNTRY_NAME| COUNTRY_NOTES|COUNTRY_REGIONID|\n",
      "+-------+----------+------------+--------------+----------------+\n",
      "|  count|    518789|      518789|        511327|          514037|\n",
      "|   mean|      null|        null|          null|            null|\n",
      "| stddev|      null|        null|          null|            null|\n",
      "|    min|        AE| Afghanistan|     Asia-Stan|              AE|\n",
      "|    25%|      null|        null|          null|            null|\n",
      "|    50%|      null|        null|          null|            null|\n",
      "|    75%|      null|        null|          null|            null|\n",
      "|    max|        ZW|    Zimbabwe|Western_Africa|              ZW|\n",
      "+-------+----------+------------+--------------+----------------+\n",
      "\n",
      "FREQUENCY,INDICATOR_ID,INDICATOR_NAME,IPCC_ID,IPCC_NAME summary:\n",
      "+-------+---------+------------+--------------+--------------------+--------------------+\n",
      "|summary|FREQUENCY|INDICATOR_ID|INDICATOR_NAME|             IPCC_ID|           IPCC_NAME|\n",
      "+-------+---------+------------+--------------+--------------------+--------------------+\n",
      "|  count|   518789|      518789|        518789|              518789|              518789|\n",
      "|   mean|     null|        null|          null|   3.840095553105476|                null|\n",
      "| stddev|     null|        null|          null|  1.1548902564725334|                null|\n",
      "|    min|   Annual|      KN.A10|            BC|                1A1a|            Aerosols|\n",
      "|    25%|     null|        null|          null|                 3.0|                null|\n",
      "|    50%|     null|        null|          null|                 4.0|                null|\n",
      "|    75%|     null|        null|          null|                 4.0|                null|\n",
      "|    max|   Annual|       KN.G9|        c-C4F8|TOTAL (incl. sect...|excluding carbon ...|\n",
      "+-------+---------+------------+--------------+--------------------+--------------------+\n",
      "\n",
      "Checking amount of distinct values in columns COUNTRY_ID,COUNTRY_NAME,COUNTRY_NOTES,COUNTRY_REGIONID,       DATE,FREQUENCY,INDICATOR_ID,INDICATOR_NAME,IPCC_ID,IPCC_NAME:\n",
      "+----------+------------+-------------+----------------+----+---------+------------+--------------+-------+---------+\n",
      "|COUNTRY_ID|COUNTRY_NAME|COUNTRY_NOTES|COUNTRY_REGIONID|DATE|FREQUENCY|INDICATOR_ID|INDICATOR_NAME|IPCC_ID|IPCC_NAME|\n",
      "+----------+------------+-------------+----------------+----+---------+------------+--------------+-------+---------+\n",
      "|       225|         225|           25|             221|  13|        1|          40|            40|     64|       64|\n",
      "+----------+------------+-------------+----------------+----+---------+------------+--------------+-------+---------+\n",
      "\n",
      "Checking also if there is nulls on other columns in the dataset :\n",
      "+----------+------------+-------------+----------------+----+---------+------------+--------------+-------+---------+\n",
      "|COUNTRY_ID|COUNTRY_NAME|COUNTRY_NOTES|COUNTRY_REGIONID|DATE|FREQUENCY|INDICATOR_ID|INDICATOR_NAME|IPCC_ID|IPCC_NAME|\n",
      "+----------+------------+-------------+----------------+----+---------+------------+--------------+-------+---------+\n",
      "|         0|           0|         7462|            4752|   0|        0|           0|             0|      0|        0|\n",
      "+----------+------------+-------------+----------------+----+---------+------------+--------------+-------+---------+\n",
      "\n"
     ]
    }
   ],
   "source": [
    "print (\"emmission value summary:\")\n",
    "subDF.select(\"VALUE\").summary().show()\n",
    "\n",
    "print(\"Checking also if there is nulls on column VALUE:\")\n",
    "subDF.select([count(when(col(c).isNull(), c)).alias(c) for c in [\"VALUE\"]]).show()\n",
    "\n",
    "print (\"COUNTRY_ID,COUNTRY_NAME,COUNTRY_NOTES,COUNTRY_REGIONID,DATE summary:\")\n",
    "subDF.select(\"COUNTRY_ID\",\"COUNTRY_NAME\",\"COUNTRY_NOTES\",\"COUNTRY_REGIONID\",\"DATE\").summary().show()\n",
    "\n",
    "print (\"FREQUENCY,INDICATOR_ID,INDICATOR_NAME,IPCC_ID,IPCC_NAME summary:\")\n",
    "subDF.select(\"FREQUENCY\",\"INDICATOR_ID\",\"INDICATOR_NAME\",\"IPCC_ID\",\"IPCC_NAME\").summary().show()\n",
    "\n",
    "\n",
    "print(\"Checking amount of distinct values in columns COUNTRY_ID,COUNTRY_NAME,COUNTRY_NOTES,COUNTRY_REGIONID, \\\n",
    "      DATE,FREQUENCY,INDICATOR_ID,INDICATOR_NAME,IPCC_ID,IPCC_NAME:\")\n",
    "subDF.select([countDistinct(c).alias(c) \n",
    "              for c in [\"COUNTRY_ID\",\"COUNTRY_NAME\",\"COUNTRY_NOTES\",\"COUNTRY_REGIONID\",\"DATE\",\"FREQUENCY\",\n",
    "                        \"INDICATOR_ID\",\"INDICATOR_NAME\",\"IPCC_ID\",\"IPCC_NAME\"]]).show()\n",
    "\n",
    "print(\"Checking also if there is nulls on other columns in the dataset :\")\n",
    "subDF.select([count(when(col(c).isNull(), c))\n",
    "              .alias(c) for c in [\"COUNTRY_ID\",\"COUNTRY_NAME\",\"COUNTRY_NOTES\",\"COUNTRY_REGIONID\",\n",
    "                                  \"DATE\",\"FREQUENCY\",\"INDICATOR_ID\",\"INDICATOR_NAME\",\"IPCC_ID\",\"IPCC_NAME\"]]).show()\n"
   ]
  },
  {
   "cell_type": "code",
   "execution_count": 93,
   "metadata": {},
   "outputs": [
    {
     "name": "stdout",
     "output_type": "stream",
     "text": [
      "Most and least frequent occurrences for COUNTRY_NAME, COUNTRY_NOTES, COUNTRY_REGIONID and INDICATOR_NAME columns:\n"
     ]
    },
    {
     "data": {
      "text/markdown": [
       "\n",
       "| leastFreqCOUNTRY_NAME | mostFreqCOUNTRY_NAME | leastFreqCOUNTRY_NOTES | mostFreqCOUNTRY_NOTES |\n",
       "|----|----|----|----|\n",
       "| Norfolk Island (30 occurrences) | Australia (3884 occurrences) | Int. Aviation (303 occurrences) | Rest Central America (65640 occurrences) |\n"
      ],
      "text/plain": [
       "<IPython.core.display.Markdown object>"
      ]
     },
     "metadata": {},
     "output_type": "display_data"
    },
    {
     "data": {
      "text/markdown": [
       "\n",
       "| leastFreqCOUNTRY_REGIONID | mostFreqCOUNTRY_REGIONID | leastFreqINDICATOR_NAME | mostFreqINDICATOR_NAME |\n",
       "|----|----|----|----|\n",
       "| PN (30 occurrences) | None (4752 occurrences) | C5F12 (14 occurrences) | N2O (49266 occurrences) |\n"
      ],
      "text/plain": [
       "<IPython.core.display.Markdown object>"
      ]
     },
     "metadata": {},
     "output_type": "display_data"
    },
    {
     "name": "stdout",
     "output_type": "stream",
     "text": [
      "Most and least frequent occurrences for IPCC_NAME columns:\n"
     ]
    },
    {
     "data": {
      "text/markdown": [
       "\n",
       "| leastFreqIPCC_NAME | mostFreqIPCC_NAME |\n",
       "|----|----|\n",
       "| Fugitive emissions from solid fuels (2) (22 occurrences) | Total (48001 occurrences) | \n"
      ],
      "text/plain": [
       "<IPython.core.display.Markdown object>"
      ]
     },
     "metadata": {},
     "output_type": "display_data"
    }
   ],
   "source": [
    "print (\"Most and least frequent occurrences for COUNTRY_NAME, COUNTRY_NOTES, COUNTRY_REGIONID and INDICATOR_NAME columns:\")\n",
    "COUNTRY_NAMEDF = subDF.groupBy(\"COUNTRY_NAME\").agg(count(lit(1)).alias(\"Total\"))\n",
    "COUNTRY_NOTESDF   = subDF.groupBy(\"COUNTRY_NOTES\").agg(count(lit(1)).alias(\"Total\"))\n",
    "COUNTRY_REGIONIDDF    = subDF.groupBy(\"COUNTRY_REGIONID\").agg(count(lit(1)).alias(\"Total\"))\n",
    "INDICATOR_NAMEDF      = subDF.groupBy(\"INDICATOR_NAME\").agg(count(lit(1)).alias(\"Total\"))\n",
    "\n",
    "leastFreqCOUNTRY_NAME    = COUNTRY_NAMEDF.orderBy(col(\"Total\").asc()).first()\n",
    "mostFreqCOUNTRY_NAME    = COUNTRY_NAMEDF.orderBy(col(\"Total\").desc()).first()\n",
    "leastFreqCOUNTRY_NOTES      = COUNTRY_NOTESDF.orderBy(col(\"Total\").asc()).first()\n",
    "mostFreqCOUNTRY_NOTES      = COUNTRY_NOTESDF.orderBy(col(\"Total\").desc()).first()\n",
    "leastFreqCOUNTRY_REGIONID       = COUNTRY_REGIONIDDF.orderBy(col(\"Total\").asc()).first()\n",
    "mostFreqCOUNTRY_REGIONID        = COUNTRY_REGIONIDDF.orderBy(col(\"Total\").desc()).first()\n",
    "leastFreqINDICATOR_NAME         = INDICATOR_NAMEDF.orderBy(col(\"Total\").asc()).first()\n",
    "mostFreqINDICATOR_NAME          = INDICATOR_NAMEDF.orderBy(col(\"Total\").desc()).first()\n",
    "\n",
    "display(Markdown(\"\"\"\n",
    "| %s | %s | %s | %s |\n",
    "|----|----|----|----|\n",
    "| %s | %s | %s | %s |\n",
    "\"\"\" % (\"leastFreqCOUNTRY_NAME\", \"mostFreqCOUNTRY_NAME\", \"leastFreqCOUNTRY_NOTES\", \"mostFreqCOUNTRY_NOTES\", \\\n",
    "       \"%s (%d occurrences)\" % (leastFreqCOUNTRY_NAME[\"COUNTRY_NAME\"], leastFreqCOUNTRY_NAME[\"Total\"]), \\\n",
    "       \"%s (%d occurrences)\" % (mostFreqCOUNTRY_NAME[\"COUNTRY_NAME\"], mostFreqCOUNTRY_NAME[\"Total\"]), \\\n",
    "       \"%s (%d occurrences)\" % (leastFreqCOUNTRY_NOTES[\"COUNTRY_NOTES\"], leastFreqCOUNTRY_NOTES[\"Total\"]), \\\n",
    "       \"%s (%d occurrences)\" % (mostFreqCOUNTRY_NOTES[\"COUNTRY_NOTES\"], mostFreqCOUNTRY_NOTES[\"Total\"]))))\n",
    "display(Markdown(\"\"\"\n",
    "| %s | %s | %s | %s |\n",
    "|----|----|----|----|\n",
    "| %s | %s | %s | %s |\n",
    "\"\"\" % (\"leastFreqCOUNTRY_REGIONID\", \"mostFreqCOUNTRY_REGIONID\", \"leastFreqINDICATOR_NAME\", \"mostFreqINDICATOR_NAME\", \\\n",
    "       \"%s (%d occurrences)\" % (leastFreqCOUNTRY_REGIONID[\"COUNTRY_REGIONID\"], leastFreqCOUNTRY_REGIONID[\"Total\"]), \\\n",
    "       \"%s (%d occurrences)\" % (mostFreqCOUNTRY_REGIONID[\"COUNTRY_REGIONID\"], mostFreqCOUNTRY_REGIONID[\"Total\"]), \\\n",
    "       \"%s (%d occurrences)\" % (leastFreqINDICATOR_NAME[\"INDICATOR_NAME\"], leastFreqINDICATOR_NAME[\"Total\"]), \\\n",
    "       \"%s (%d occurrences)\" % (mostFreqINDICATOR_NAME[\"INDICATOR_NAME\"], mostFreqINDICATOR_NAME[\"Total\"]))))\n",
    "\n",
    "\n",
    "print (\"Most and least frequent occurrences for IPCC_NAME columns:\")\n",
    "IPCC_NAMEDF = subDF.groupBy(\"IPCC_NAME\").agg(count(lit(1)).alias(\"Total\"))\n",
    "\n",
    "leastFreqIPCC_NAME   = IPCC_NAMEDF.orderBy(col(\"Total\").asc()).first()\n",
    "mostFreqIPCC_NAME    = IPCC_NAMEDF.orderBy(col(\"Total\").desc()).first()\n",
    "\n",
    "display(Markdown(\"\"\"\n",
    "| %s | %s |\n",
    "|----|----|\n",
    "| %s | %s | \n",
    "\"\"\" % (\"leastFreqIPCC_NAME\", \"mostFreqIPCC_NAME\", \\\n",
    "       \"%s (%d occurrences)\" % (leastFreqIPCC_NAME[\"IPCC_NAME\"], leastFreqIPCC_NAME[\"Total\"]), \\\n",
    "       \"%s (%d occurrences)\" % (mostFreqIPCC_NAME[\"IPCC_NAME\"], mostFreqIPCC_NAME[\"Total\"]))))\n",
    "\n"
   ]
  },
  {
   "cell_type": "markdown",
   "metadata": {},
   "source": [
    "# Section3 (My Insights)\n",
    "3.1. Which is the most emissions polluting the earth? <br>\n",
    "3.2. Which countries generates most of the world’s CO2 emissions?<br>\n",
    "3.3 Is there a change in emission since 2000 ?"
   ]
  },
  {
   "attachments": {},
   "cell_type": "markdown",
   "metadata": {},
   "source": [
    "### 3.1 Which is the most emissions polluting the earth?\n",
    "\n",
    "TOP20"
   ]
  },
  {
   "cell_type": "code",
   "execution_count": 94,
   "metadata": {},
   "outputs": [
    {
     "data": {
      "text/markdown": [
       "TOP20 **most emmissions types poluted the earth** (in Megatons):"
      ],
      "text/plain": [
       "<IPython.core.display.Markdown object>"
      ]
     },
     "metadata": {},
     "output_type": "display_data"
    },
    {
     "name": "stdout",
     "output_type": "stream",
     "text": [
      "+------------+--------------------+-----------------+\n",
      "|INDICATOR_ID|      INDICATOR_NAME|sumEmission(Mton)|\n",
      "+------------+--------------------+-----------------+\n",
      "|       KN.A2|CO2 excluding sho...|          1256.98|\n",
      "|       KN.A3|CO2 organic carbo...|           386.86|\n",
      "|       KN.G3|                  CO|            12.75|\n",
      "|       KN.A4|                 CH4|              7.7|\n",
      "|       KN.A6|       HFCs (GWP100)|             7.41|\n",
      "|      KN.A32|               NMVOC|             2.48|\n",
      "|       KN.G7|                 NOx|             2.32|\n",
      "|      KN.G11|                 SO2|             2.04|\n",
      "|      KN.A18|       PFCs (GWP100)|             1.63|\n",
      "|       KN.G6|NMVOC_fossil  (NM...|             1.54|\n",
      "|       KN.G5|NMVOC_bio (NMVOC ...|              1.3|\n",
      "|       KN.G9|                PM10|             1.28|\n",
      "|       KN.G4|                 NH3|             1.12|\n",
      "|      KN.G10|               PM2.5|             0.82|\n",
      "|       KN.G8|                  OC|             0.27|\n",
      "|       KN.A5|                 N2O|              0.2|\n",
      "|       KN.G2|                  BC|              0.1|\n",
      "|      KN.A17|       HFC-43-10-mee|              0.0|\n",
      "|      KN.A10|            HFC-152a|              0.0|\n",
      "|      KN.A14|           HFC-245fa|              0.0|\n",
      "+------------+--------------------+-----------------+\n",
      "only showing top 20 rows\n",
      "\n"
     ]
    }
   ],
   "source": [
    "display(Markdown(\"TOP20 **most emmissions types poluted the earth** (in Megatons):\"))\n",
    "mostIndicatorsDF = subDF.groupBy(\"INDICATOR_ID\",\"INDICATOR_NAME\") \\\n",
    "                       .agg((round(sum(\"VALUE\")/1000000,2)).alias(\"sumEmission(Mton)\")) \\\n",
    "                       .sort(\"sumEmission(Mton)\", ascending=False) \\\n",
    "                       .show()"
   ]
  },
  {
   "cell_type": "markdown",
   "metadata": {},
   "source": [
    "#### Now it can be seen that CO2 (KN.A2, KN.A3) are both the most type that is affecting the whole earth, Now let's see the most two countries affecting the earth as well but only for ****CO2****"
   ]
  },
  {
   "cell_type": "markdown",
   "metadata": {},
   "source": [
    "### 3.2 Which countries generates most of the world’s CO2 emissions?\n",
    "\n",
    "\n",
    "****noting that we'll cobmine both Indicators (KN.A2 & KN.A3).***"
   ]
  },
  {
   "cell_type": "code",
   "execution_count": 95,
   "metadata": {},
   "outputs": [
    {
     "data": {
      "text/markdown": [
       "TOP10 **'COUNTRY-Wise' Most to lowest emissions** (in Megatons):"
      ],
      "text/plain": [
       "<IPython.core.display.Markdown object>"
      ]
     },
     "metadata": {},
     "output_type": "display_data"
    },
    {
     "name": "stdout",
     "output_type": "stream",
     "text": [
      "+--------------------+-----------------+\n",
      "|        COUNTRY_NAME|sumEmission(Mton)|\n",
      "+--------------------+-----------------+\n",
      "|               China|           256.69|\n",
      "|       United States|            221.3|\n",
      "|               India|             81.6|\n",
      "|  Russian Federation|            76.21|\n",
      "|              Brazil|            63.47|\n",
      "|           Indonesia|            62.23|\n",
      "|               Japan|            51.56|\n",
      "|             Germany|            39.39|\n",
      "|Central African R...|             33.4|\n",
      "|Congo_the Democra...|            32.01|\n",
      "|              Canada|            29.58|\n",
      "|           Australia|            24.92|\n",
      "|       Int. Shipping|            24.31|\n",
      "|             Nigeria|            23.96|\n",
      "|               Sudan|            23.26|\n",
      "|      United Kingdom|            23.11|\n",
      "|  Korea, Republic of|             21.5|\n",
      "|               Italy|             20.9|\n",
      "|Iran, Islamic Rep...|            20.15|\n",
      "|       Int. Aviation|            18.19|\n",
      "+--------------------+-----------------+\n",
      "only showing top 20 rows\n",
      "\n"
     ]
    }
   ],
   "source": [
    "display(Markdown(\"TOP10 **'COUNTRY-Wise' Most to lowest emissions** (in Megatons):\"))\n",
    "\n",
    "mostCo2DF = subDF.filter(\"INDICATOR_ID == 'KN.A2' or INDICATOR_ID == 'KN.A3'\") \\\n",
    "            .groupBy(\"COUNTRY_NAME\") \\\n",
    "            .agg((round(sum(\"VALUE\")/1000000,2)).alias(\"sumEmission(Mton)\")) \\\n",
    "            .sort(\"sumEmission(Mton)\", ascending=False) \\\n",
    "            .show(20)\n"
   ]
  },
  {
   "cell_type": "markdown",
   "metadata": {},
   "source": [
    "**From the above table, It Can be seen that China,US, and India are the most countries that produces CO2 on earth in the period from 2000 till 2012**"
   ]
  },
  {
   "cell_type": "code",
   "execution_count": 96,
   "metadata": {},
   "outputs": [
    {
     "data": {
      "text/markdown": [
       "TOP20 **'INDICATOR_NAME-Wise' Most to lowest emissions** (in Megatons):"
      ],
      "text/plain": [
       "<IPython.core.display.Markdown object>"
      ]
     },
     "metadata": {},
     "output_type": "display_data"
    },
    {
     "name": "stdout",
     "output_type": "stream",
     "text": [
      "+--------------------+-----------------+------+\n",
      "|      INDICATOR_NAME|sumEmission(Mton)|Ratio%|\n",
      "+--------------------+-----------------+------+\n",
      "|CO2 excluding sho...|          1256.98| 74.52|\n",
      "|CO2 organic carbo...|           386.86| 22.93|\n",
      "|                  CO|            12.75|  0.76|\n",
      "|                 CH4|              7.7|  0.46|\n",
      "|       HFCs (GWP100)|             7.41|  0.44|\n",
      "|               NMVOC|             2.48|  0.15|\n",
      "|                 NOx|             2.32|  0.14|\n",
      "|                 SO2|             2.04|  0.12|\n",
      "|       PFCs (GWP100)|             1.63|   0.1|\n",
      "|NMVOC_fossil  (NM...|             1.54|  0.09|\n",
      "|                PM10|             1.28|  0.08|\n",
      "|NMVOC_bio (NMVOC ...|              1.3|  0.08|\n",
      "|                 NH3|             1.12|  0.07|\n",
      "|               PM2.5|             0.82|  0.05|\n",
      "|                  OC|             0.27|  0.02|\n",
      "|                  BC|              0.1|  0.01|\n",
      "|                 N2O|              0.2|  0.01|\n",
      "|               C4F10|              0.0|   0.0|\n",
      "|           HFC-236fa|              0.0|   0.0|\n",
      "|                C3F8|              0.0|   0.0|\n",
      "+--------------------+-----------------+------+\n",
      "only showing top 20 rows\n",
      "\n"
     ]
    },
    {
     "data": {
      "text/markdown": [
       "TOP20 **'COUNTRY-Wise' Most to lowest emissions** (in Megatons):"
      ],
      "text/plain": [
       "<IPython.core.display.Markdown object>"
      ]
     },
     "metadata": {},
     "output_type": "display_data"
    },
    {
     "name": "stdout",
     "output_type": "stream",
     "text": [
      "+--------------------+-----------------+------+\n",
      "|        COUNTRY_NAME|sumEmission(Mton)|Ratio%|\n",
      "+--------------------+-----------------+------+\n",
      "|               China|           265.14| 15.72|\n",
      "|       United States|           227.15| 13.47|\n",
      "|               India|            85.26|  5.05|\n",
      "|  Russian Federation|            78.08|  4.63|\n",
      "|              Brazil|            65.14|  3.86|\n",
      "|           Indonesia|            63.68|  3.78|\n",
      "|               Japan|            52.73|  3.13|\n",
      "|             Germany|            39.94|  2.37|\n",
      "|Central African R...|            33.49|  1.99|\n",
      "|Congo_the Democra...|            32.24|  1.91|\n",
      "|              Canada|            30.31|   1.8|\n",
      "|           Australia|            25.31|   1.5|\n",
      "|       Int. Shipping|             24.9|  1.48|\n",
      "|             Nigeria|            24.86|  1.47|\n",
      "|               Sudan|            23.48|  1.39|\n",
      "|      United Kingdom|            23.51|  1.39|\n",
      "|  Korea, Republic of|            21.92|   1.3|\n",
      "|               Italy|            21.25|  1.26|\n",
      "|Iran, Islamic Rep...|            20.68|  1.23|\n",
      "|       Int. Aviation|            18.24|  1.08|\n",
      "+--------------------+-----------------+------+\n",
      "only showing top 20 rows\n",
      "\n"
     ]
    }
   ],
   "source": [
    "sumCO2Emission = subDF.groupBy().agg(round(sum(\"VALUE\"),2)).collect()\n",
    "NEWDF = subDF.select(\"COUNTRY_NAME\",\"COUNTRY_NOTES\",\"COUNTRY_REGIONID\",\"date\",\"IPCC_NAME\",\"INDICATOR_NAME\",\"VALUE\")\n",
    "NEWDF.cache()\n",
    "display(Markdown(\"TOP20 **'INDICATOR_NAME-Wise' Most to lowest emissions** (in Megatons):\"))\n",
    "NEWDF.select(\"INDICATOR_NAME\",\"VALUE\")\\\n",
    "                      .groupBy(\"INDICATOR_NAME\") \\\n",
    "                     .agg((sum(\"VALUE\")/1000000).alias(\"sumEmission(Mton)\"), \\\n",
    "                          (sum(\"VALUE\")/sumCO2Emission[0][0]*100).alias(\"Ratio\"))\\\n",
    "                     .select(\"INDICATOR_NAME\",round(\"sumEmission(Mton)\",2).alias(\"sumEmission(Mton)\"), \\\n",
    "                             round(\"Ratio\",2).alias(\"Ratio%\")) \\\n",
    "                       .sort(\"Ratio%\", ascending=False) \\\n",
    "                       .show()\n",
    "\n",
    "display(Markdown(\"TOP20 **'COUNTRY-Wise' Most to lowest emissions** (in Megatons):\"))\n",
    "NEWDF.select(\"COUNTRY_NAME\",\"VALUE\")\\\n",
    "                     .groupBy(\"COUNTRY_NAME\") \\\n",
    "                     .agg((sum(\"VALUE\")/1000000).alias(\"sumEmission(Mton)\"), \\\n",
    "                          (sum(\"VALUE\")/sumCO2Emission[0][0]*100).alias(\"Ratio\"))\\\n",
    "                     .select(\"COUNTRY_NAME\",round(\"sumEmission(Mton)\",2).alias(\"sumEmission(Mton)\"), \\\n",
    "                             round(\"Ratio\",2).alias(\"Ratio%\")) \\\n",
    "                     .sort(\"Ratio%\", ascending=False) \\\n",
    "                     .show()"
   ]
  },
  {
   "attachments": {},
   "cell_type": "markdown",
   "metadata": {},
   "source": [
    "**Now, it can be seen that CO2 (KN.A2, KN.A3) are both the most type that is affecting the whole earth, so let's see the most two countries affecting the earth as well but only for CO2, both together are formulating 97.4% of the overall emissions on earth for the period 2000 till 2012!, <br> On the other hand, country wise,**\n",
    "**from the above table, It Can be seen that China, US, India, Russia and Brazil  are the most countries that produces CO2 on earth with almost 44% of the over all emission in the period from 2000 till 2012**"
   ]
  },
  {
   "cell_type": "code",
   "execution_count": 97,
   "metadata": {},
   "outputs": [
    {
     "data": {
      "text/markdown": [
       "TOP10 **'COUNTRY_NOTES-Wise' Most to lowest emissions** (in Megatons):"
      ],
      "text/plain": [
       "<IPython.core.display.Markdown object>"
      ]
     },
     "metadata": {},
     "output_type": "display_data"
    },
    {
     "name": "stdout",
     "output_type": "stream",
     "text": [
      "+-----------------+-----------------+------+\n",
      "|    COUNTRY_NOTES|sumEmission(Mton)|Ratio%|\n",
      "+-----------------+-----------------+------+\n",
      "|             null|           295.45| 17.52|\n",
      "|              USA|           227.15| 13.47|\n",
      "|      OECD_Europe|           160.29|   9.5|\n",
      "|   Western_Africa|           129.28|  7.66|\n",
      "|          India +|           103.76|  6.15|\n",
      "|         Russia +|            79.92|  4.74|\n",
      "|      Indonesia +|            65.04|  3.86|\n",
      "|           Brazil|            65.14|  3.86|\n",
      "|Southeastern Asia|            62.19|  3.69|\n",
      "|      Middle_East|            60.17|  3.57|\n",
      "+-----------------+-----------------+------+\n",
      "only showing top 10 rows\n",
      "\n"
     ]
    },
    {
     "data": {
      "text/markdown": [
       "TOP10 **'COUNTRY_REGION-Wise' Most to lowest emissions** (in Megatons):"
      ],
      "text/plain": [
       "<IPython.core.display.Markdown object>"
      ]
     },
     "metadata": {},
     "output_type": "display_data"
    },
    {
     "name": "stdout",
     "output_type": "stream",
     "text": [
      "+----------------+-----------------+------+\n",
      "|COUNTRY_REGIONID|sumEmission(Mton)|Ratio%|\n",
      "+----------------+-----------------+------+\n",
      "|              CN|           265.14| 15.72|\n",
      "|              US|           227.15| 13.47|\n",
      "|              IN|            85.26|  5.05|\n",
      "|              RU|            78.08|  4.63|\n",
      "|              BR|            65.14|  3.86|\n",
      "|              ID|            63.68|  3.78|\n",
      "|              JP|            52.73|  3.13|\n",
      "|            null|            45.52|   2.7|\n",
      "|              DE|            39.94|  2.37|\n",
      "|              CF|            33.49|  1.99|\n",
      "+----------------+-----------------+------+\n",
      "only showing top 10 rows\n",
      "\n"
     ]
    },
    {
     "data": {
      "text/markdown": [
       "TOP10 **'Year-Wise' Most to lowest year emissions** (in Megatons):"
      ],
      "text/plain": [
       "<IPython.core.display.Markdown object>"
      ]
     },
     "metadata": {},
     "output_type": "display_data"
    },
    {
     "name": "stdout",
     "output_type": "stream",
     "text": [
      "+----+-----------------+------+\n",
      "|Year|sumEmission(Mton)|Ratio%|\n",
      "+----+-----------------+------+\n",
      "|2007|           181.45| 10.76|\n",
      "|2008|            167.5|  9.93|\n",
      "|2006|           164.32|  9.74|\n",
      "|2004|           154.33|  9.15|\n",
      "|2005|           148.99|  8.83|\n",
      "|2003|           143.42|   8.5|\n",
      "|2001|           142.84|  8.47|\n",
      "|2002|           139.75|  8.28|\n",
      "|2000|           134.08|  7.95|\n",
      "|2011|            79.46|  4.71|\n",
      "+----+-----------------+------+\n",
      "only showing top 10 rows\n",
      "\n"
     ]
    },
    {
     "data": {
      "text/markdown": [
       "TOP10**'Year-Wise' Most to lowest year emissions** by Country (in Megatons):"
      ],
      "text/plain": [
       "<IPython.core.display.Markdown object>"
      ]
     },
     "metadata": {},
     "output_type": "display_data"
    },
    {
     "name": "stdout",
     "output_type": "stream",
     "text": [
      "+----+-------------+-----------------+------+\n",
      "|Year| COUNTRY_NAME|sumEmission(Mton)|Ratio%|\n",
      "+----+-------------+-----------------+------+\n",
      "|2007|        China|            27.65|  1.64|\n",
      "|2006|        China|            25.67|  1.52|\n",
      "|2004|        China|            25.21|  1.49|\n",
      "|2003|United States|            24.23|  1.44|\n",
      "|2007|United States|            23.77|  1.41|\n",
      "|2008|        China|            23.49|  1.39|\n",
      "|2008|United States|            23.22|  1.38|\n",
      "|2000|United States|            22.48|  1.33|\n",
      "|2011|        China|            21.02|  1.25|\n",
      "|2001|United States|            20.98|  1.24|\n",
      "+----+-------------+-----------------+------+\n",
      "only showing top 10 rows\n",
      "\n"
     ]
    }
   ],
   "source": [
    "display(Markdown(\"TOP10 **'COUNTRY_NOTES-Wise' Most to lowest emissions** (in Megatons):\"))\n",
    "NEWDF.select(\"COUNTRY_NOTES\",\"VALUE\")\\\n",
    "                     .groupBy(\"COUNTRY_NOTES\") \\\n",
    "                     .agg((sum(\"VALUE\")/1000000).alias(\"sumEmission(Mton)\"), \\\n",
    "                          (sum(\"VALUE\")/sumCO2Emission[0][0]*100).alias(\"Ratio\"))\\\n",
    "                     .select(\"COUNTRY_NOTES\",round(\"sumEmission(Mton)\",2).alias(\"sumEmission(Mton)\"), \\\n",
    "                             round(\"Ratio\",2).alias(\"Ratio%\")) \\\n",
    "                     .sort(\"Ratio%\", ascending=False) \\\n",
    "                     .show(10)\n",
    "\n",
    "display(Markdown(\"TOP10 **'COUNTRY_REGION-Wise' Most to lowest emissions** (in Megatons):\"))\n",
    "NEWDF.select(\"COUNTRY_REGIONID\",\"VALUE\")\\\n",
    "                     .groupBy(\"COUNTRY_REGIONID\") \\\n",
    "                     .agg((sum(\"VALUE\")/1000000).alias(\"sumEmission(Mton)\"), \\\n",
    "                          (sum(\"VALUE\")/sumCO2Emission[0][0]*100).alias(\"Ratio\"))\\\n",
    "                     .select(\"COUNTRY_REGIONID\",round(\"sumEmission(Mton)\",2).alias(\"sumEmission(Mton)\"), \\\n",
    "                             round(\"Ratio\",2).alias(\"Ratio%\")) \\\n",
    "                     .sort(\"Ratio%\", ascending=False) \\\n",
    "                     .show(10)\n",
    "\n",
    "display(Markdown(\"TOP10 **'Year-Wise' Most to lowest year emissions** (in Megatons):\"))\n",
    "NEWDF.select(year(\"date\").alias(\"Year\"),\"VALUE\")\\\n",
    "                     .groupBy(\"Year\") \\\n",
    "                     .agg((sum(\"VALUE\")/1000000).alias(\"sumEmission(Mton)\"), \\\n",
    "                          (sum(\"VALUE\")/sumCO2Emission[0][0]*100).alias(\"Ratio\"))\\\n",
    "                     .select(\"Year\",round(\"sumEmission(Mton)\",2).alias(\"sumEmission(Mton)\"), \\\n",
    "                             round(\"Ratio\",2).alias(\"Ratio%\")) \\\n",
    "                     .sort(\"Ratio%\", ascending=False) \\\n",
    "                     .show(10)\n",
    "\n",
    "display(Markdown(\"TOP10**'Year-Wise' Most to lowest year emissions** by Country (in Megatons):\"))\n",
    "NEWDF.select(\"COUNTRY_NAME\",year(\"date\").alias(\"Year\"),\"VALUE\")\\\n",
    "                     .groupBy(\"Year\",\"COUNTRY_NAME\") \\\n",
    "                     .agg((sum(\"VALUE\")/1000000).alias(\"sumEmission(Mton)\"), \\\n",
    "                          (sum(\"VALUE\")/sumCO2Emission[0][0]*100).alias(\"Ratio\"))\\\n",
    "                     .select(\"Year\",\"COUNTRY_NAME\",round(\"sumEmission(Mton)\",2).alias(\"sumEmission(Mton)\"), \\\n",
    "                             round(\"Ratio\",2).alias(\"Ratio%\")) \\\n",
    "                     .sort(\"Ratio%\", ascending=False) \\\n",
    "                     .show(10)\n",
    "                     "
   ]
  },
  {
   "cell_type": "markdown",
   "metadata": {},
   "source": [
    "### 3.3 Is there a change in emission since 2000 ?"
   ]
  },
  {
   "cell_type": "code",
   "execution_count": 98,
   "metadata": {},
   "outputs": [
    {
     "data": {
      "text/markdown": [
       "TOP20 **Country-wise** over year from 2000 till 2012(in Megatons):"
      ],
      "text/plain": [
       "<IPython.core.display.Markdown object>"
      ]
     },
     "metadata": {},
     "output_type": "display_data"
    },
    {
     "name": "stdout",
     "output_type": "stream",
     "text": [
      "+--------------------+-----+-----+-----+-----+-----+-----+-----+-----+-----+-----+-----+-----+-----+------+------+\n",
      "|        COUNTRY_NAME| 2000| 2001| 2002| 2003| 2004| 2005| 2006| 2007| 2008| 2009| 2010| 2011| 2012| TOTAL|TOTAL%|\n",
      "+--------------------+-----+-----+-----+-----+-----+-----+-----+-----+-----+-----+-----+-----+-----+------+------+\n",
      "|               China|16.32|16.39|16.02|16.65|25.21| 19.2|25.67|27.65|23.49|18.86|17.79|21.02|20.89|265.16| 15.72|\n",
      "|       United States|22.48|20.98|18.09|24.23| 18.1|18.68|17.71|23.77|23.22|11.12| 7.92|11.33| 9.51|227.14| 13.47|\n",
      "|               India| 6.14| 7.83| 6.58| 6.52| 8.31| 6.39| 7.68| 8.84|  6.0| 5.29|  5.3| 4.43| 5.95| 85.26|  5.05|\n",
      "|  Russian Federation| 4.06| 7.41| 8.22| 7.16| 7.58|  7.4|  7.4| 7.64| 7.54| 2.99| 3.46| 3.57| 3.64| 78.07|  4.63|\n",
      "|              Brazil| 5.68| 6.39| 6.66| 6.75| 7.65| 7.93| 5.26| 5.36| 5.46|  1.9| 2.07|  2.0| 2.02| 65.13|  3.86|\n",
      "|           Indonesia| 4.52| 5.22| 5.97|  4.4| 6.15| 8.75|10.75|  5.7| 6.58| 1.33| 1.43| 1.43| 1.45| 63.68|  3.78|\n",
      "|               Japan| 5.23| 4.93| 5.21| 4.13| 5.33| 4.18| 5.48| 4.24| 3.77| 2.37| 2.56| 2.62| 2.69| 52.74|  3.13|\n",
      "|             Germany| 3.64| 3.71| 3.66| 3.66|  3.7|  3.6|  3.7| 3.62| 3.66| 1.69| 1.79| 1.75| 1.77| 39.95|  2.37|\n",
      "|Central African R...| 1.93| 2.71| 1.62| 1.31| 1.28| 1.91| 7.24|  7.7| 7.74| 0.01| 0.01| 0.01| 0.01| 33.48|  1.98|\n",
      "|Congo_the Democra...| 2.96| 3.17| 3.86| 2.86| 3.64| 3.15| 2.52| 5.82| 3.55| 0.19| 0.21| 0.12| 0.19| 32.24|  1.91|\n",
      "|              Canada| 2.79| 2.71| 2.91| 3.08| 3.11| 2.78| 2.62| 2.75| 2.66| 1.21| 1.23| 1.23| 1.24| 30.32|   1.8|\n",
      "|           Australia|  2.6| 2.65| 3.13| 1.97| 2.62|  1.7| 1.99|  3.0|  2.2| 0.88| 0.91| 0.71| 0.93| 25.29|   1.5|\n",
      "|       Int. Shipping| 1.98| 1.88| 1.95| 1.98|  2.2| 2.25|  2.4| 2.53|  2.5| 1.28| 1.38| 1.33| 1.22| 24.88|  1.47|\n",
      "|             Nigeria| 1.79| 1.91| 1.79| 1.77| 1.83| 1.84| 2.64| 3.64| 3.13| 1.07| 1.14| 1.13| 1.17| 24.85|  1.47|\n",
      "|      United Kingdom| 1.71| 2.33| 2.27| 2.32| 1.75| 2.31| 2.31| 2.29| 2.24| 1.01| 1.04| 0.95| 0.99| 23.52|  1.39|\n",
      "|               Sudan| 1.29| 1.21| 1.85| 1.74| 1.21| 1.41| 3.48| 7.32| 3.36|  0.2| 0.13| 0.18| 0.12|  23.5|  1.39|\n",
      "|  Korea, Republic of| 1.86| 1.81|  1.8| 1.92| 2.07|  2.0| 2.09| 1.97| 2.11| 1.05| 0.93| 1.18| 1.13| 21.92|   1.3|\n",
      "|               Italy| 1.89| 1.89| 1.91|  2.0| 2.02| 2.04| 2.04| 1.98| 1.93| 0.86| 0.93| 0.87| 0.87| 21.23|  1.26|\n",
      "|Iran, Islamic Rep...| 1.43| 1.49| 1.56| 1.65| 1.78| 1.89| 2.04| 2.16|  1.9| 1.19|  1.2| 1.18|  1.2| 20.67|  1.23|\n",
      "|       Int. Aviation| 1.43|  1.4| 1.48| 1.48| 1.59|  1.7| 1.76| 1.81| 1.84| 0.89| 0.93| 0.96| 0.97| 18.24|  1.08|\n",
      "+--------------------+-----+-----+-----+-----+-----+-----+-----+-----+-----+-----+-----+-----+-----+------+------+\n",
      "only showing top 20 rows\n",
      "\n"
     ]
    }
   ],
   "source": [
    "display(Markdown(\"TOP20 **Country-wise** over year from 2000 till 2012(in Megatons):\"))\n",
    "yearDF = NEWDF.select(\"COUNTRY_NAME\",year(\"date\").alias(\"Year\"),\"VALUE\")\\\n",
    "                     .groupBy(\"Year\",\"COUNTRY_NAME\") \\\n",
    "                     .agg((sum(\"VALUE\")/1000000).alias(\"sumEmission(Mton)\"), \\\n",
    "                          (sum(\"VALUE\")/sumCO2Emission[0][0]*100).alias(\"Ratio\"))\\\n",
    "                     .select(\"Year\",'COUNTRY_NAME',round(\"sumEmission(Mton)\",2).alias(\"sumEmission(Mton)\"), \\\n",
    "                             round(\"Ratio\",2).alias(\"Ratio%\")) \\\n",
    "                     .sort(\"Ratio%\", ascending=False)                     \n",
    "\n",
    "yearPivot = yearDF.groupBy(\"COUNTRY_NAME\").pivot(\"Year\").sum(\"sumEmission(Mton)\")\n",
    "yearPivot = yearPivot.fillna(0, subset=yearPivot.columns[1:15])\n",
    "\n",
    "yearPivot.withColumn('TOTAL', round(add(*[yearPivot[x] for x in yearPivot.columns[1:14]]),2)).withColumn('TOTAL%', \\\n",
    "        round((add(*[yearPivot[x] for x in yearPivot.columns[1:14]]))/(sumCO2Emission[0][0]/1000000)*100,2)) \\\n",
    "                    .sort(\"TOTAL\", ascending=False) .show()\n"
   ]
  },
  {
   "attachments": {},
   "cell_type": "markdown",
   "metadata": {},
   "source": [
    "#### Country-Wise\n",
    "**We can see from the above that the united states of America were at 1st place in emission till 2004 as China took the lead till now in polluting the whole world, \n",
    "there is also something happened in 2009 as there were a big drop by almost 50% in all countries and I think this is related to the economic crisis happened in 2008.**"
   ]
  },
  {
   "cell_type": "markdown",
   "metadata": {},
   "source": [
    "#### Now, let's also see if something has happened from the CO2 wheather it has been reduced across all countries year-wise\n",
    "\n"
   ]
  },
  {
   "cell_type": "code",
   "execution_count": 99,
   "metadata": {},
   "outputs": [
    {
     "data": {
      "text/markdown": [
       "TOP5 **Indicators** over year from 2000 till 2012(in Megatons):"
      ],
      "text/plain": [
       "<IPython.core.display.Markdown object>"
      ]
     },
     "metadata": {},
     "output_type": "display_data"
    },
    {
     "name": "stdout",
     "output_type": "stream",
     "text": [
      "+----------+-----+------+------+------+------+-----+------+------+------+-----+-----+-----+-----+-------+------+\n",
      "|IND_NAME_S| 2000|  2001|  2002|  2003|  2004| 2005|  2006|  2007|  2008| 2009| 2010| 2011| 2012|  TOTAL|TOTAL%|\n",
      "+----------+-----+------+------+------+------+-----+------+------+------+-----+-----+-----+-----+-------+------+\n",
      "|     CO2 e|99.82|104.55|101.09|106.09|116.75|109.7|119.54|127.62|118.62|61.59|59.44|66.27|65.89|1256.97| 74.52|\n",
      "|     CO2 o|30.71| 34.76| 34.84| 33.48| 33.55|35.22| 40.58| 49.46|  44.4|12.18|12.35|12.56|12.79| 386.88| 22.94|\n",
      "|        CO| 1.16|  1.17|  1.15|  1.16|  1.13| 1.11|  1.12|  1.15|   1.2|  1.2| 1.19|  0.0|  0.0|  12.74|  0.76|\n",
      "|       CH4| 0.49|  0.53|  0.58|  0.56|  0.61|  0.6|  0.62|  0.63|  0.58| 0.59| 0.65| 0.62| 0.66|   7.72|  0.46|\n",
      "|     HFCs |  0.5|  0.48|   0.7|  0.73|  0.86| 0.89|  0.98|  1.08|  1.19|  0.0|  0.0|  0.0|  0.0|   7.41|  0.44|\n",
      "+----------+-----+------+------+------+------+-----+------+------+------+-----+-----+-----+-----+-------+------+\n",
      "only showing top 5 rows\n",
      "\n"
     ]
    }
   ],
   "source": [
    "display(Markdown(\"TOP5 **Indicators** over year from 2000 till 2012(in Megatons):\"))\n",
    "yearDF = NEWDF.select(\"INDICATOR_NAME\",year(\"date\").alias(\"Year\"),\"VALUE\")\\\n",
    "                     .groupBy(\"Year\",\"INDICATOR_NAME\") \\\n",
    "                     .agg((sum(\"VALUE\")/1000000).alias(\"sumEmission(Mton)\"), \\\n",
    "                          (sum(\"VALUE\")/sumCO2Emission[0][0]*100).alias(\"Ratio\"))\\\n",
    "                     .withColumn('IND_NAME_S', substring('INDICATOR_NAME', 1, 5)) \\\n",
    "                     .select(\"Year\",'IND_NAME_S',round(\"sumEmission(Mton)\",2).alias(\"sumEmission(Mton)\"), \\\n",
    "                             round(\"Ratio\",2).alias(\"Ratio%\")) \\\n",
    "                     .sort(\"Ratio%\", ascending=False)                     \n",
    "\n",
    "yearPivot = yearDF.groupBy(\"IND_NAME_S\").pivot(\"Year\").sum(\"sumEmission(Mton)\") \\\n",
    "                  .fillna(0, subset=yearPivot.columns[1:15])\n",
    "\n",
    "yearPivot.withColumn('TOTAL', round(add(*[yearPivot[x] for x in yearPivot.columns[1:14]]),2)).withColumn('TOTAL%', \\\n",
    "        round((add(*[yearPivot[x] for x in yearPivot.columns[1:14]]))/(sumCO2Emission[0][0]/1000000)*100,2)) \\\n",
    "                    .sort(\"TOTAL\", ascending=False) .show(5)\n"
   ]
  },
  {
   "cell_type": "markdown",
   "metadata": {},
   "source": [
    "#### It can be seen from the above table that CO2 in both types are decreased dramatically to half of the percentage recorded in 2000, however, there is a slight increase in CH4 which is more dangerouse even with small doses to our earth, and to really imagine how CH4 is problematic to earth just imagine that its impact is 34 times greater than CO2 over a 100-year period, according to the latest IPCC Assessment Report.\n",
    "\n",
    "\n",
    "***Note:***\n",
    "Methane is a greenhouse gas as is carbon dioxide. Human activity has increased the amount of methane in the atmosphere, contributing to climate change. Methane is particularly problematic as its impact is 34 times greater than CO2 over a 100-year period, according to the latest IPCC Assessment Report. A significant source of human-made methane emissions is fossil fuel production. For example, methane is a key by-product of the rapidly rising global extraction and processing of natural gas. Other top sources of methane come from the digestive process of livestock and from landfills, which emit it as waste decomposes."
   ]
  },
  {
   "cell_type": "code",
   "execution_count": 100,
   "metadata": {},
   "outputs": [
    {
     "data": {
      "text/markdown": [
       "TOP20 **emission sectors** over year from 2000 till 2012(in Megatons):"
      ],
      "text/plain": [
       "<IPython.core.display.Markdown object>"
      ]
     },
     "metadata": {},
     "output_type": "display_data"
    },
    {
     "name": "stdout",
     "output_type": "stream",
     "text": [
      "+--------------------+-----+-----+-----+-----+-----+-----+-----+-----+-----+-----+-----+-----+-----+------+------+\n",
      "|          IND_NAME_S| 2000| 2001| 2002| 2003| 2004| 2005| 2006| 2007| 2008| 2009| 2010| 2011| 2012| TOTAL|TOTAL%|\n",
      "+--------------------+-----+-----+-----+-----+-----+-----+-----+-----+-----+-----+-----+-----+-----+------+------+\n",
      "|excluding carbon ...|64.16|71.41|64.03|64.64|70.81|66.16|80.61|91.56|79.72|  0.0|  0.0|  0.0|  0.0| 653.1| 38.72|\n",
      "|               Total|32.82|33.03|33.67|35.09|36.65|37.79|38.92| 40.4| 40.8|39.57|41.52|41.54| 41.9| 493.7| 29.27|\n",
      "|Public electricit...| 6.33| 7.26| 9.31| 9.66| 11.0|  8.9| 8.11| 8.52| 8.79|12.46|10.73|12.49|13.51|127.07|  7.53|\n",
      "|Residential and o...| 5.19| 5.53| 5.73| 5.54| 6.51| 5.94|  4.7| 6.08|  6.6| 6.39| 6.57| 6.27| 6.49| 77.54|   4.6|\n",
      "|Manufacturing Ind...| 4.59| 3.26| 3.73| 4.35| 4.51| 5.24| 4.83|  3.8| 5.69| 5.33| 3.39|  5.7| 5.98|  60.4|  3.58|\n",
      "| Road transportation| 4.29| 4.04| 4.13| 4.53| 4.65| 4.65| 4.98| 4.92| 4.37| 4.96| 3.84| 5.17| 3.14| 57.67|  3.42|\n",
      "|     Savanna burning| 3.55| 4.56| 4.12| 3.78| 4.04| 4.68| 5.92| 9.87| 5.99|  0.0|  0.0|  0.0|  0.0| 46.51|  2.76|\n",
      "|Forest Fires-Post...| 1.95|  2.3| 2.08| 2.43| 2.43| 2.55| 2.05| 2.21| 1.91|  0.0|  0.0|  0.0|  0.0| 19.91|  1.18|\n",
      "|        Forest fires| 1.39| 1.23| 2.05| 1.41| 2.44| 2.54| 2.61| 2.69| 1.45|  0.0|  0.0|  0.0|  0.0| 17.81|  1.06|\n",
      "|Other Energy Indu...| 1.09| 0.84| 1.18| 1.22| 0.98| 1.32|  1.4| 1.39| 1.41|  1.3|  1.5|  1.4| 1.45| 16.48|  0.98|\n",
      "|Forest Land: net ...| 1.04| 2.05| 2.49| 2.29|  2.1|  1.6| 1.63|  0.9| 1.75|  0.0|  0.0|  0.0|  0.0| 15.85|  0.94|\n",
      "|   Cement production| 0.63|  0.7| 0.74| 0.75| 0.74| 0.82|  0.5| 1.02| 1.05| 1.01| 1.23| 1.29| 1.28| 11.76|   0.7|\n",
      "|Agricultural wast...| 0.77| 0.84| 0.83| 0.74| 0.76| 0.75| 0.88| 0.97| 1.02| 1.04|  1.0| 0.86| 0.84|  11.3|  0.67|\n",
      "|Fugitive emission...|  0.7| 0.71| 0.79|  0.8|  0.8| 0.88| 0.87|  1.0| 0.99| 0.97| 0.96| 0.82| 0.85| 11.14|  0.66|\n",
      "|Peat fires and de...|  1.1| 0.99| 0.77| 1.07| 1.29| 0.53| 1.78| 1.25| 1.19|  0.0|  0.0|  0.0|  0.0|  9.97|  0.59|\n",
      "|Memo: Internation...| 0.52| 0.49| 0.51| 0.52| 0.57|  0.6| 0.64| 0.67| 0.67| 0.64| 0.69| 0.67| 0.61|   7.8|  0.46|\n",
      "|Production of che...| 0.34| 0.32| 0.39| 0.44| 0.41| 0.35| 0.34| 0.58| 0.49| 0.42| 0.54| 0.64| 0.67|  5.93|  0.35|\n",
      "|Memo: Internation...| 0.36| 0.35| 0.37| 0.37|  0.4| 0.43| 0.44| 0.45| 0.46| 0.44| 0.46| 0.48| 0.48|  5.49|  0.33|\n",
      "|     Grassland fires| 0.91| 0.64| 0.59| 1.27| 0.65| 0.58| 0.24| 0.31|  0.2|  0.0|  0.0|  0.0|  0.0|  5.39|  0.32|\n",
      "|Production of metals| 0.26| 0.25| 0.28|  0.3| 0.29| 0.19| 0.37|  0.4| 0.42| 0.31| 0.33| 0.31| 0.32|  4.03|  0.24|\n",
      "+--------------------+-----+-----+-----+-----+-----+-----+-----+-----+-----+-----+-----+-----+-----+------+------+\n",
      "only showing top 20 rows\n",
      "\n"
     ]
    }
   ],
   "source": [
    "display(Markdown(\"TOP20 **emission sectors** over year from 2000 till 2012(in Megatons):\"))\n",
    "yearDF = NEWDF.select(\"IPCC_NAME\",year(\"date\").alias(\"Year\"),\"VALUE\")\\\n",
    "                     .groupBy(\"Year\",\"IPCC_NAME\") \\\n",
    "                     .agg((sum(\"VALUE\")/1000000).alias(\"sumEmission(Mton)\"), \\\n",
    "                          (sum(\"VALUE\")/sumCO2Emission[0][0]*100).alias(\"Ratio\"))\\\n",
    "                     .withColumn('IND_NAME_S', substring('IPCC_NAME', 1, 35)) \\\n",
    "                     .select(\"Year\",'IND_NAME_S',round(\"sumEmission(Mton)\",2).alias(\"sumEmission(Mton)\"), \\\n",
    "                             round(\"Ratio\",2).alias(\"Ratio%\")) \\\n",
    "                     .sort(\"Ratio%\", ascending=False)                     \n",
    "\n",
    "yearPivot = yearDF.groupBy(\"IND_NAME_S\").pivot(\"Year\").sum(\"sumEmission(Mton)\") \\\n",
    "                  .fillna(0, subset=yearPivot.columns[1:15])\n",
    "\n",
    "yearPivot.withColumn('TOTAL', round(add(*[yearPivot[x] for x in yearPivot.columns[1:14]]),2)).withColumn('TOTAL%', \\\n",
    "        round((add(*[yearPivot[x] for x in yearPivot.columns[1:14]]))/(sumCO2Emission[0][0]/1000000)*100,2)) \\\n",
    "                    .sort(\"TOTAL\", ascending=False) .show()"
   ]
  },
  {
   "cell_type": "markdown",
   "metadata": {},
   "source": [
    "**Here, I think some countries are not segregating the sectors and that’s why we have the total row indicating the total emission in this year in this country which would have been better if they tried to have it segregated for better analysis sector wise.**"
   ]
  },
  {
   "cell_type": "code",
   "execution_count": 101,
   "metadata": {},
   "outputs": [
    {
     "data": {
      "text/markdown": [
       "TOP20**'Year-Wise' Most to lowest year emissions** by Country (in Megatons):"
      ],
      "text/plain": [
       "<IPython.core.display.Markdown object>"
      ]
     },
     "metadata": {},
     "output_type": "display_data"
    },
    {
     "name": "stdout",
     "output_type": "stream",
     "text": [
      "+----+--------------------+-----------------+------+\n",
      "|Year|        COUNTRY_NAME|sumEmission(Mton)|Ratio%|\n",
      "+----+--------------------+-----------------+------+\n",
      "|2012|               China|            20.89|  1.24|\n",
      "|2012|       United States|             9.51|  0.56|\n",
      "|2012|               India|             5.95|  0.35|\n",
      "|2012|  Russian Federation|             3.64|  0.22|\n",
      "|2012|               Japan|             2.69|  0.16|\n",
      "|2012|              Brazil|             2.02|  0.12|\n",
      "|2012|             Germany|             1.77|   0.1|\n",
      "|2012|           Indonesia|             1.45|  0.09|\n",
      "|2012|       Int. Shipping|             1.22|  0.07|\n",
      "|2012|              Canada|             1.24|  0.07|\n",
      "|2012|Iran, Islamic Rep...|              1.2|  0.07|\n",
      "|2012|             Nigeria|             1.17|  0.07|\n",
      "|2012|  Korea, Republic of|             1.13|  0.07|\n",
      "|2012|       Int. Aviation|             0.97|  0.06|\n",
      "|2012|      United Kingdom|             0.99|  0.06|\n",
      "|2012|        Saudi Arabia|             0.93|  0.06|\n",
      "|2012|               Italy|             0.87|  0.05|\n",
      "|2012|           Australia|             0.93|  0.05|\n",
      "|2012|            Thailand|             0.84|  0.05|\n",
      "|2012|              Mexico|             0.79|  0.05|\n",
      "+----+--------------------+-----------------+------+\n",
      "only showing top 20 rows\n",
      "\n"
     ]
    }
   ],
   "source": [
    "display(Markdown(\"TOP20**'Year-Wise' Most to lowest year emissions** by Country (in Megatons):\"))\n",
    "NEWDF.select(\"COUNTRY_NAME\",year(\"date\").alias(\"Year\"),\"VALUE\")\\\n",
    "                     .groupBy(\"Year\",\"COUNTRY_NAME\") \\\n",
    "                     .agg((sum(\"VALUE\")/1000000).alias(\"sumEmission(Mton)\"), \\\n",
    "                          (sum(\"VALUE\")/sumCO2Emission[0][0]*100).alias(\"Ratio\"))\\\n",
    "                     .select(\"Year\",\"COUNTRY_NAME\",round(\"sumEmission(Mton)\",2).alias(\"sumEmission(Mton)\"), \\\n",
    "                             round(\"Ratio\",2).alias(\"Ratio%\")) \\\n",
    "                     .sort([\"Year\",\"Ratio%\"], ascending=False) \\\n",
    "                     .show()\n",
    "                     "
   ]
  },
  {
   "cell_type": "markdown",
   "metadata": {},
   "source": [
    "# Section4 (Summary)\n"
   ]
  },
  {
   "attachments": {},
   "cell_type": "markdown",
   "metadata": {},
   "source": [
    "***In Conclusion,***, it can be seen that **CO2** (KN.A2, KN.A3) are both the most type that is affecting the whole earth, both together are formulating **97.4%** of the overall emissions on earth for the period 2000 till 2012 but it can be seen from the above table that CO2 in both types are decreased dramatically to half of the percentage recorded in 2000, however, there is a slight increase in **CH4** which is more dangerous even with small doses to our earth, and to really imagine how CH4 is problematic to earth just imagine that its impact is **34 times** greater than CO2 over a 100-year period, according to the latest IPCC Assessment Report.\n",
    "Country wise, **China, US, India, Russia and Brazil**  are the most countries that produces CO2 on earth with almost **44%** of the over all emission in the period from 2000 till 2012 which will need to work on reducing more there emissions by searching for another source of energy as they are affecting not only their area but also all earth.\n",
    "Lastly, united states of America were at 1st place in emission till **2004** as **China took the lead till now in polluting the whole world**, there is also something happened in 2009 as there were a big drop by almost **50%** in all countries and I think this is related to the economic crisis happened in **2008**."
   ]
  },
  {
   "cell_type": "markdown",
   "metadata": {},
   "source": [
    "# Section5 (Resources)\n",
    "\n",
    "MyDataSet:\n",
    "\n",
    "https://datasource.kapsarc.org/explore/dataset/global-emissions-by-country-2013/export/?dataChart=eyJxdWVyaWVzIjpbeyJjb25maWciOnsiZGF0YXNldCI6Imdsb2JhbC1lbWlzc2lvbnMtYnktY291bnRyeS0yMDEzIiwib3B0aW9ucyI6e319LCJjaGFydHMiOlt7ImFsaWduTW9udGgiOnRydWUsInR5cGUiOiJsaW5lIiwiZnVuYyI6IkFWRyIsInlBeGlzIjoidmFsdWUiLCJzY2llbnRpZmljRGlzcGxheSI6dHJ1ZSwiY29sb3IiOiIjNjZjMmE1In1dLCJ4QXhpcyI6ImRhdGUiLCJtYXhwb2ludHMiOiIiLCJ0aW1lc2NhbGUiOiJ5ZWFyIiwic29ydCI6IiJ9XSwiZGlzcGxheUxlZ2VuZCI6dHJ1ZSwiYWxpZ25Nb250aCI6dHJ1ZX0%3D\n",
    "\n",
    "Why Methane Matters: <br>\n",
    "https://unfccc.int/news/new-methane-signs-underline-urgency-to-reverse-emissions\n",
    "\n",
    "\n",
    "The Secret History of Lead\n",
    "\n",
    "https://www.thenation.com/article/archive/secret-history-lead/\n",
    "<br>\n",
    "\n",
    "\n",
    "\n"
   ]
  },
  {
   "cell_type": "markdown",
   "metadata": {},
   "source": [
    "#### Clearing all dataframes and Deleting all jobs and then stop spark context"
   ]
  },
  {
   "cell_type": "code",
   "execution_count": 102,
   "metadata": {},
   "outputs": [
    {
     "data": {
      "text/plain": [
       "DataFrame[INDICATOR_NAME: string, Total: bigint]"
      ]
     },
     "execution_count": 102,
     "metadata": {},
     "output_type": "execute_result"
    }
   ],
   "source": [
    "NEWDF.unpersist()\n",
    "subDF.unpersist()\n",
    "COUNTRY_NAMEDF.unpersist()\n",
    "COUNTRY_NOTESDF.unpersist()\n",
    "COUNTRY_REGIONIDDF.unpersist()\n",
    "INDICATOR_NAMEDF.unpersist()"
   ]
  },
  {
   "cell_type": "code",
   "execution_count": 103,
   "metadata": {},
   "outputs": [],
   "source": [
    "sc.cancelAllJobs()"
   ]
  },
  {
   "cell_type": "code",
   "execution_count": 104,
   "metadata": {},
   "outputs": [],
   "source": [
    "spark.stop()\n",
    "sc.stop()"
   ]
  }
 ],
 "metadata": {
  "kernelspec": {
   "display_name": "Python 3",
   "language": "python",
   "name": "python3"
  },
  "language_info": {
   "codemirror_mode": {
    "name": "ipython",
    "version": 3
   },
   "file_extension": ".py",
   "mimetype": "text/x-python",
   "name": "python",
   "nbconvert_exporter": "python",
   "pygments_lexer": "ipython3",
   "version": "3.7.3"
  }
 },
 "nbformat": 4,
 "nbformat_minor": 2
}
